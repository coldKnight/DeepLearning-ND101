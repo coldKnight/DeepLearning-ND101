{
 "cells": [
  {
   "cell_type": "markdown",
   "metadata": {
    "collapsed": true,
    "deletable": true,
    "editable": true
   },
   "source": [
    "# Image Classification\n",
    "In this project, we'll classify images from the [CIFAR-10 dataset](https://www.cs.toronto.edu/~kriz/cifar.html).  The dataset consists of airplanes, dogs, cats, and other objects. We'll preprocess the images, then train a convolutional neural network on all the samples. The images need to be normalized and the labels need to be one-hot encoded.  We'll get to apply and build a convolutional, max pooling, dropout, and fully connected layers.  At the end, we'll get to see your neural network's predictions on the sample images.\n",
    "## Get the Data\n",
    "Download the [CIFAR-10 dataset for python](https://www.cs.toronto.edu/~kriz/cifar-10-python.tar.gz)."
   ]
  },
  {
   "cell_type": "code",
   "execution_count": 1,
   "metadata": {
    "collapsed": false,
    "deletable": true,
    "editable": true
   },
   "outputs": [
    {
     "name": "stderr",
     "output_type": "stream",
     "text": [
      "CIFAR-10 Dataset: 171MB [01:05, 2.59MB/s]                              \n"
     ]
    },
    {
     "name": "stdout",
     "output_type": "stream",
     "text": [
      "All files found!\n"
     ]
    }
   ],
   "source": [
    "from urllib.request import urlretrieve\n",
    "from os.path import isfile, isdir\n",
    "from tqdm import tqdm\n",
    "import problem_unittests as tests\n",
    "import tarfile\n",
    "\n",
    "cifar10_dataset_folder_path = 'cifar-10-batches-py'\n",
    "\n",
    "class DLProgress(tqdm):\n",
    "    last_block = 0\n",
    "\n",
    "    def hook(self, block_num=1, block_size=1, total_size=None):\n",
    "        self.total = total_size\n",
    "        self.update((block_num - self.last_block) * block_size)\n",
    "        self.last_block = block_num\n",
    "\n",
    "if not isfile('cifar-10-python.tar.gz'):\n",
    "    with DLProgress(unit='B', unit_scale=True, miniters=1, desc='CIFAR-10 Dataset') as pbar:\n",
    "        urlretrieve(\n",
    "            'https://www.cs.toronto.edu/~kriz/cifar-10-python.tar.gz',\n",
    "            'cifar-10-python.tar.gz',\n",
    "            pbar.hook)\n",
    "\n",
    "if not isdir(cifar10_dataset_folder_path):\n",
    "    with tarfile.open('cifar-10-python.tar.gz') as tar:\n",
    "        tar.extractall()\n",
    "        tar.close()\n",
    "\n",
    "\n",
    "tests.test_folder_path(cifar10_dataset_folder_path)"
   ]
  },
  {
   "cell_type": "markdown",
   "metadata": {
    "deletable": true,
    "editable": true
   },
   "source": [
    "## Explore the Data\n",
    "The dataset is broken into batches to prevent the machine from running out of memory.  The CIFAR-10 dataset consists of 5 batches, named `data_batch_1`, `data_batch_2`, etc.. Each batch contains the labels and images that are one of the following:\n",
    "* airplane\n",
    "* automobile\n",
    "* bird\n",
    "* cat\n",
    "* deer\n",
    "* dog\n",
    "* frog\n",
    "* horse\n",
    "* ship\n",
    "* truck\n",
    "\n",
    "Understanding a dataset is part of making predictions on the data.  Let us play around with the code cell below by changing the `batch_id` and `sample_id`. The `batch_id` is the id for a batch (1-5). The `sample_id` is the id for a image and label pair in the batch."
   ]
  },
  {
   "cell_type": "code",
   "execution_count": 2,
   "metadata": {
    "collapsed": false,
    "deletable": true,
    "editable": true
   },
   "outputs": [
    {
     "name": "stdout",
     "output_type": "stream",
     "text": [
      "\n",
      "Stats of batch 2:\n",
      "Samples: 10000\n",
      "Label Counts: {0: 984, 1: 1007, 2: 1010, 3: 995, 4: 1010, 5: 988, 6: 1008, 7: 1026, 8: 987, 9: 985}\n",
      "First 20 Labels: [1, 6, 6, 8, 8, 3, 4, 6, 0, 6, 0, 3, 6, 6, 5, 4, 8, 3, 2, 6]\n",
      "\n",
      "Example of Image 0:\n",
      "Image - Min Value: 5 Max Value: 225\n",
      "Image - Shape: (32, 32, 3)\n",
      "Label - Label Id: 1 Name: automobile\n"
     ]
    },
    {
     "data": {
      "image/png": "[encoded data removed]",
      "text/plain": [
       "<matplotlib.figure.Figure at 0x7f5e3fd130b8>"
      ]
     },
     "metadata": {
      "image/png": {
       "height": 250,
       "width": 253
      }
     },
     "output_type": "display_data"
    }
   ],
   "source": [
    "%matplotlib inline\n",
    "%config InlineBackend.figure_format = 'retina'\n",
    "\n",
    "import helper\n",
    "import numpy as np\n",
    "\n",
    "# Explore the dataset\n",
    "batch_id = 2\n",
    "sample_id = 0\n",
    "helper.display_stats(cifar10_dataset_folder_path, batch_id, sample_id)"
   ]
  },
  {
   "cell_type": "markdown",
   "metadata": {
    "deletable": true,
    "editable": true
   },
   "source": [
    "## Implement Preprocess Functions\n",
    "### Normalize\n",
    "The `normalize` function takes in image data, `x`, and returns it as a normalized Numpy array. The values will be in the range of 0 to 1, inclusive.  The return object should be the same shape as `x`."
   ]
  },
  {
   "cell_type": "code",
   "execution_count": 3,
   "metadata": {
    "collapsed": false,
    "deletable": true,
    "editable": true
   },
   "outputs": [
    {
     "name": "stdout",
     "output_type": "stream",
     "text": [
      "Tests Passed\n"
     ]
    }
   ],
   "source": [
    "def normalize(x):\n",
    "    \"\"\"\n",
    "    Normalize a list of sample image data in the range of 0 to 1\n",
    "    : x: List of image data.  The image shape is (32, 32, 3)\n",
    "    : return: Numpy array of normalize data\n",
    "    \"\"\"\n",
    "    x_copy = x/255\n",
    "    return x_copy\n",
    "\n",
    "\n",
    "tests.test_normalize(normalize)"
   ]
  },
  {
   "cell_type": "markdown",
   "metadata": {
    "deletable": true,
    "editable": true
   },
   "source": [
    "### One-hot encode\n",
    "The `one_hot_encode` function. The input, `x`, are a list of labels.  The function returns the list of labels as One-Hot encoded Numpy array.  The possible values for labels are 0 to 9. The one-hot encoding function should return the same encoding for each value between each call to `one_hot_encode`."
   ]
  },
  {
   "cell_type": "code",
   "execution_count": 4,
   "metadata": {
    "collapsed": false,
    "deletable": true,
    "editable": true
   },
   "outputs": [
    {
     "name": "stdout",
     "output_type": "stream",
     "text": [
      "Tests Passed\n"
     ]
    }
   ],
   "source": [
    "from sklearn.preprocessing import LabelBinarizer\n",
    "def one_hot_encode(x):\n",
    "    \"\"\"\n",
    "    One hot encode a list of sample labels. Return a one-hot encoded vector for each label.\n",
    "    : x: List of sample Labels\n",
    "    : return: Numpy array of one-hot encoded labels\n",
    "    \"\"\"\n",
    "    labels = np.array(np.eye(10)[x])\n",
    "    lb = LabelBinarizer()\n",
    "    ohe = lb.fit_transform(labels)\n",
    "    return ohe\n",
    "\n",
    "\n",
    "tests.test_one_hot_encode(one_hot_encode)"
   ]
  },
  {
   "cell_type": "markdown",
   "metadata": {
    "deletable": true,
    "editable": true
   },
   "source": [
    "### Randomize Data\n",
    "As we saw from exploring the data above, the order of the samples are randomized.  It doesn't hurt to randomize it again, but we don't need to for this dataset."
   ]
  },
  {
   "cell_type": "markdown",
   "metadata": {
    "deletable": true,
    "editable": true
   },
   "source": [
    "## Preprocess all the data and save it\n",
    "Running the code cell below will preprocess all the CIFAR-10 data and save it to file. The code below also uses 10% of the training data for validation."
   ]
  },
  {
   "cell_type": "code",
   "execution_count": 5,
   "metadata": {
    "collapsed": false,
    "deletable": true,
    "editable": true
   },
   "outputs": [],
   "source": [
    "# Preprocess Training, Validation, and Testing Data\n",
    "helper.preprocess_and_save_data(cifar10_dataset_folder_path, normalize, one_hot_encode)"
   ]
  },
  {
   "cell_type": "markdown",
   "metadata": {
    "deletable": true,
    "editable": true
   },
   "source": [
    "# Check Point\n",
    "This is your first checkpoint.  If you ever decide to come back to this notebook or have to restart the notebook, you can start from here.  The preprocessed data has been saved to disk."
   ]
  },
  {
   "cell_type": "code",
   "execution_count": 6,
   "metadata": {
    "collapsed": true,
    "deletable": true,
    "editable": true
   },
   "outputs": [],
   "source": [
    "import pickle\n",
    "import problem_unittests as tests\n",
    "import helper\n",
    "\n",
    "# Load the Preprocessed Validation data\n",
    "valid_features, valid_labels = pickle.load(open('preprocess_validation.p', mode='rb'))"
   ]
  },
  {
   "cell_type": "markdown",
   "metadata": {
    "deletable": true,
    "editable": true
   },
   "source": [
    "## Build the network\n",
    "For the neural network, we'll build each layer into a function.\n",
    "\n",
    ">[TensorFlow Layers](https://www.tensorflow.org/api_docs/python/tf/layers) or [TensorFlow Layers (contrib)](https://www.tensorflow.org/api_guides/python/contrib.layers) packages to build each layer, except the layers you build in the \"Convolutional and Max Pooling Layer\" section.  TF Layers is similar to Keras's and TFLearn's abstraction to layers, so it's easy to pickup.\n",
    "\n",
    ">Instead of using the TF Layers version of the `conv2d` class, [tf.layers.conv2d](https://www.tensorflow.org/api_docs/python/tf/layers/conv2d), you would want to use the TF Neural Network version of `conv2d`, [tf.nn.conv2d](https://www.tensorflow.org/api_docs/python/tf/nn/conv2d). \n",
    "\n",
    "\n",
    "### Input\n",
    "The neural network needs to read the image data, one-hot encoded labels, and dropout keep probability. \n",
    "* `neural_net_image_input`\n",
    " * Return a [TF Placeholder](https://www.tensorflow.org/api_docs/python/tf/placeholder)\n",
    " * Set the shape using `image_shape` with batch size set to `None`.\n",
    " * Name the TensorFlow placeholder \"x\" using the TensorFlow `name` parameter in the [TF Placeholder](https://www.tensorflow.org/api_docs/python/tf/placeholder).\n",
    "* `neural_net_label_input`\n",
    " * Return a [TF Placeholder](https://www.tensorflow.org/api_docs/python/tf/placeholder)\n",
    " * Set the shape using `n_classes` with batch size set to `None`.\n",
    " * Name the TensorFlow placeholder \"y\" using the TensorFlow `name` parameter in the [TF Placeholder](https://www.tensorflow.org/api_docs/python/tf/placeholder).\n",
    "* `neural_net_keep_prob_input`\n",
    " * Return a [TF Placeholder](https://www.tensorflow.org/api_docs/python/tf/placeholder) for dropout keep probability.\n",
    " * Name the TensorFlow placeholder \"keep_prob\" using the TensorFlow `name` parameter in the [TF Placeholder](https://www.tensorflow.org/api_docs/python/tf/placeholder).\n",
    "\n",
    "These names will be used at the end to load the saved model.\n",
    "\n",
    "Note: `None` for shapes in TensorFlow allow for a dynamic size."
   ]
  },
  {
   "cell_type": "code",
   "execution_count": 7,
   "metadata": {
    "collapsed": false,
    "deletable": true,
    "editable": true
   },
   "outputs": [
    {
     "name": "stdout",
     "output_type": "stream",
     "text": [
      "Image Input Tests Passed.\n",
      "Label Input Tests Passed.\n",
      "Keep Prob Tests Passed.\n"
     ]
    }
   ],
   "source": [
    "import tensorflow as tf\n",
    "\n",
    "def neural_net_image_input(image_shape):\n",
    "    \"\"\"\n",
    "    Return a Tensor for a bach of image input\n",
    "    : image_shape: Shape of the images\n",
    "    : return: Tensor for image input.\n",
    "    \"\"\"\n",
    "    # TODO: Implement Function\n",
    "    return tf.placeholder(tf.float32, shape=[None, *image_shape], name='x')\n",
    "\n",
    "\n",
    "def neural_net_label_input(n_classes):\n",
    "    \"\"\"\n",
    "    Return a Tensor for a batch of label input\n",
    "    : n_classes: Number of classes\n",
    "    : return: Tensor for label input.\n",
    "    \"\"\"\n",
    "    # TODO: Implement Function\n",
    "    return tf.placeholder(tf.float32, shape=[None, n_classes], name='y')\n",
    "\n",
    "\n",
    "def neural_net_keep_prob_input():\n",
    "    \"\"\"\n",
    "    Return a Tensor for keep probability\n",
    "    : return: Tensor for keep probability.\n",
    "    \"\"\"\n",
    "    # TODO: Implement Function\n",
    "    return tf.placeholder(tf.float32, name='keep_prob')\n",
    "\n",
    "\n",
    "tf.reset_default_graph()\n",
    "tests.test_nn_image_inputs(neural_net_image_input)\n",
    "tests.test_nn_label_inputs(neural_net_label_input)\n",
    "tests.test_nn_keep_prob_inputs(neural_net_keep_prob_input)"
   ]
  },
  {
   "cell_type": "markdown",
   "metadata": {
    "deletable": true,
    "editable": true
   },
   "source": [
    "### Convolution and Max Pooling Layer\n",
    "Convolution layers have a lot of success with images. For this code cell, we'll implement the function `conv2d_maxpool` to apply convolution then max pooling:\n",
    "* Create the weight and bias using `conv_ksize`, `conv_num_outputs` and the shape of `x_tensor`.\n",
    "* Apply a convolution to `x_tensor` using weight and `conv_strides`.\n",
    "* Add bias\n",
    "* Add a nonlinear activation to the convolution.\n",
    "* Apply Max Pooling using `pool_ksize` and `pool_strides`."
   ]
  },
  {
   "cell_type": "code",
   "execution_count": 8,
   "metadata": {
    "collapsed": false,
    "deletable": true,
    "editable": true
   },
   "outputs": [
    {
     "name": "stdout",
     "output_type": "stream",
     "text": [
      "Tests Passed\n"
     ]
    }
   ],
   "source": [
    "def conv2d_maxpool(x_tensor, conv_num_outputs, conv_ksize, conv_strides, pool_ksize, pool_strides):\n",
    "    \"\"\"\n",
    "    Apply convolution then max pooling to x_tensor\n",
    "    :param x_tensor: TensorFlow Tensor\n",
    "    :param conv_num_outputs: Number of outputs for the convolutional layer\n",
    "    :param conv_ksize: kernal size 2-D Tuple for the convolutional layer\n",
    "    :param conv_strides: Stride 2-D Tuple for convolution\n",
    "    :param pool_ksize: kernal size 2-D Tuple for pool\n",
    "    :param pool_strides: Stride 2-D Tuple for pool\n",
    "    : return: A tensor that represents convolution and max pooling of x_tensor\n",
    "    \"\"\"\n",
    "    conv1_w = tf.Variable(tf.truncated_normal((conv_ksize[0], conv_ksize[1], x_tensor.get_shape().as_list()[-1], conv_num_outputs),mean=0.0, stddev=0.05, dtype=tf.float32, seed=1234, name=None))\n",
    "    conv1_bias = tf.Variable(tf.zeros(conv_num_outputs))\n",
    "    \n",
    "    conv1 = tf.nn.conv2d(x_tensor, conv1_w, strides=[1, conv_strides[0], conv_strides[1], 1], padding='SAME')\n",
    "    conv1 = tf.nn.bias_add(conv1, conv1_bias)\n",
    "    conv1 = tf.nn.relu(conv1)\n",
    "    conv1 = tf.nn.max_pool(conv1, strides=[1,pool_strides[0],pool_strides[1],1], ksize=[1,pool_ksize[0],pool_ksize[1],1],\n",
    "                          padding='SAME')\n",
    "    \n",
    "    return conv1\n",
    "\n",
    "\n",
    "tests.test_con_pool(conv2d_maxpool)"
   ]
  },
  {
   "cell_type": "markdown",
   "metadata": {
    "deletable": true,
    "editable": true
   },
   "source": [
    "### Flatten Layer\n",
    "The `flatten` function to change the dimension of `x_tensor` from a 4-D tensor to a 2-D tensor.  The output should be the shape (*Batch Size*, *Flattened Image Size*). We can use classes from the [TensorFlow Layers](https://www.tensorflow.org/api_docs/python/tf/layers) or [TensorFlow Layers (contrib)](https://www.tensorflow.org/api_guides/python/contrib.layers) packages for this layer."
   ]
  },
  {
   "cell_type": "code",
   "execution_count": 9,
   "metadata": {
    "collapsed": false,
    "deletable": true,
    "editable": true
   },
   "outputs": [
    {
     "name": "stdout",
     "output_type": "stream",
     "text": [
      "Tests Passed\n"
     ]
    }
   ],
   "source": [
    "def flatten(x_tensor):\n",
    "    \"\"\"\n",
    "    Flatten x_tensor to (Batch Size, Flattened Image Size)\n",
    "    : x_tensor: A tensor of size (Batch Size, ...), where ... are the image dimensions.\n",
    "    : return: A tensor of size (Batch Size, Flattened Image Size).\n",
    "    \"\"\"\n",
    "    return tf.contrib.layers.flatten(x_tensor)\n",
    "\n",
    "\n",
    "tests.test_flatten(flatten)"
   ]
  },
  {
   "cell_type": "markdown",
   "metadata": {
    "deletable": true,
    "editable": true
   },
   "source": [
    "### Fully-Connected Layer\n",
    "The `fully_conn` function to apply a fully connected layer to `x_tensor` with the shape (*Batch Size*, *num_outputs*). We can use classes from the [TensorFlow Layers](https://www.tensorflow.org/api_docs/python/tf/layers) or [TensorFlow Layers (contrib)](https://www.tensorflow.org/api_guides/python/contrib.layers) packages for this layer."
   ]
  },
  {
   "cell_type": "code",
   "execution_count": 12,
   "metadata": {
    "collapsed": false,
    "deletable": true,
    "editable": true
   },
   "outputs": [
    {
     "name": "stdout",
     "output_type": "stream",
     "text": [
      "Tests Passed\n"
     ]
    }
   ],
   "source": [
    "def fully_conn(x_tensor, num_outputs):\n",
    "    \"\"\"\n",
    "    Apply a fully connected layer to x_tensor using weight and bias\n",
    "    : x_tensor: A 2-D tensor where the first dimension is batch size.\n",
    "    : num_outputs: The number of output that the new tensor should be.\n",
    "    : return: A 2-D tensor where the second dimension is num_outputs.\n",
    "    \"\"\"\n",
    "    weigths = tf.Variable(tf.truncated_normal((x_tensor.get_shape().as_list()[1], num_outputs),stddev=0.05))\n",
    "    biases = tf.Variable(tf.zeros(num_outputs))\n",
    "    x_tensor = tf.add(tf.matmul(x_tensor, weigths), biases)\n",
    "    x_tensor = tf.nn.relu(x_tensor)\n",
    "    return x_tensor\n",
    "\n",
    "\n",
    "tests.test_fully_conn(fully_conn)"
   ]
  },
  {
   "cell_type": "markdown",
   "metadata": {
    "deletable": true,
    "editable": true
   },
   "source": [
    "### Output Layer\n",
    "The `output` function to apply a fully connected layer to `x_tensor` with the shape (*Batch Size*, *num_outputs*)."
   ]
  },
  {
   "cell_type": "code",
   "execution_count": 13,
   "metadata": {
    "collapsed": false,
    "deletable": true,
    "editable": true
   },
   "outputs": [
    {
     "name": "stdout",
     "output_type": "stream",
     "text": [
      "Tests Passed\n"
     ]
    }
   ],
   "source": [
    "def output(x_tensor, num_outputs):\n",
    "    \"\"\"\n",
    "    Apply a output layer to x_tensor using weight and bias\n",
    "    : x_tensor: A 2-D tensor where the first dimension is batch size.\n",
    "    : num_outputs: The number of output that the new tensor should be.\n",
    "    : return: A 2-D tensor where the second dimension is num_outputs.\n",
    "    \"\"\"\n",
    "    weigths = tf.Variable(tf.truncated_normal((x_tensor.get_shape().as_list()[1], num_outputs),stddev=0.05))\n",
    "    biases = tf.Variable(tf.zeros(num_outputs))\n",
    "    x_tensor = tf.add(tf.matmul(x_tensor, weigths), biases)\n",
    "    return x_tensor\n",
    "\n",
    "\n",
    "tests.test_output(output)"
   ]
  },
  {
   "cell_type": "markdown",
   "metadata": {
    "deletable": true,
    "editable": true
   },
   "source": [
    "### Create Convolutional Model\n",
    "The function `conv_net` to create a convolutional neural network model. The function takes in a batch of images, `x`, and outputs logits.\n",
    "* Apply 1, 2, or 3 Convolution and Max Pool layers\n",
    "* Apply a Flatten Layer\n",
    "* Apply 1, 2, or 3 Fully Connected Layers\n",
    "* Apply an Output Layer\n",
    "* Return the output\n",
    "* Apply [TensorFlow's Dropout](https://www.tensorflow.org/api_docs/python/tf/nn/dropout) to one or more layers in the model using `keep_prob`."
   ]
  },
  {
   "cell_type": "code",
   "execution_count": 14,
   "metadata": {
    "collapsed": false,
    "deletable": true,
    "editable": true
   },
   "outputs": [
    {
     "name": "stdout",
     "output_type": "stream",
     "text": [
      "Neural Network Built!\n"
     ]
    }
   ],
   "source": [
    "def conv_net(x, keep_prob):\n",
    "    \"\"\"\n",
    "    Create a convolutional neural network model\n",
    "    : x: Placeholder tensor that holds image data.\n",
    "    : keep_prob: Placeholder tensor that hold dropout keep probability.\n",
    "    : return: Tensor that represents logits\n",
    "    \"\"\"\n",
    "    # TODO: Apply 1, 2, or 3 Convolution and Max Pool layers\n",
    "    #    Play around with different number of outputs, kernel size and stride\n",
    "    # Function Definition from Above:\n",
    "    #    conv2d_maxpool(x_tensor, conv_num_outputs, conv_ksize, conv_strides, pool_ksize, pool_strides)\n",
    "    conv_ksize = (3,3)\n",
    "    conv_strides = (1,1)\n",
    "    pool_ksize = (2,2)\n",
    "    pool_strides = (2,2)\n",
    "    \n",
    "    conv1_out = 24\n",
    "    conv1 = conv2d_maxpool(x, conv1_out, conv_ksize, conv_strides, pool_ksize, pool_strides)\n",
    "\n",
    "    conv2_out = 72\n",
    "    conv2 = conv2d_maxpool(conv1, conv2_out, conv_ksize, conv_strides, pool_ksize, pool_strides)\n",
    "    \n",
    "    conv3_out = 144\n",
    "    conv3 = conv2d_maxpool(conv2, conv3_out, conv_ksize, conv_strides, pool_ksize, pool_strides)\n",
    "\n",
    "    # TODO: Apply a Flatten Layer\n",
    "    # Function Definition from Above:\n",
    "    #   flatten(x_tensor)\n",
    "    layer_flatten = flatten(conv3)\n",
    "\n",
    "    # TODO: Apply 1, 2, or 3 Fully Connected Layers\n",
    "    #    Play around with different number of outputs\n",
    "    # Function Definition from Above:\n",
    "    #   fully_conn(x_tensor, num_outputs)\n",
    "    num_outputs = 512\n",
    "    fc1 = fully_conn(layer_flatten, num_outputs)\n",
    "    fc1 = tf.nn.dropout(fc1, keep_prob)\n",
    "    \n",
    "    num_outputs = 256\n",
    "    fc2 = fully_conn(fc1, num_outputs)\n",
    "    fc2 = tf.nn.dropout(fc2, keep_prob)\n",
    "    \n",
    "    num_outputs = 128\n",
    "    fc2 = fully_conn(fc1, num_outputs)\n",
    "    fc2 = tf.nn.dropout(fc2, keep_prob)\n",
    "    \n",
    "    # TODO: Apply an Output Layer\n",
    "    #    Set this to the number of classes\n",
    "    # Function Definition from Above:\n",
    "    #   output(x_tensor, num_outputs)\n",
    "    final_out = output(fc2, 10)    \n",
    "    # TODO: return output\n",
    "    return final_out\n",
    "\n",
    "\n",
    "\n",
    "##############################\n",
    "## Build the Neural Network ##\n",
    "##############################\n",
    "\n",
    "# Remove previous weights, bias, inputs, etc..\n",
    "tf.reset_default_graph()\n",
    "\n",
    "# Inputs\n",
    "x = neural_net_image_input((32, 32, 3))\n",
    "y = neural_net_label_input(10)\n",
    "keep_prob = neural_net_keep_prob_input()\n",
    "\n",
    "# Model\n",
    "logits = conv_net(x, keep_prob)\n",
    "\n",
    "# Name logits Tensor, so that is can be loaded from disk after training\n",
    "logits = tf.identity(logits, name='logits')\n",
    "\n",
    "# Loss and Optimizer\n",
    "cost = tf.reduce_mean(tf.nn.softmax_cross_entropy_with_logits(logits=logits, labels=y))\n",
    "optimizer = tf.train.AdamOptimizer().minimize(cost)\n",
    "\n",
    "# Accuracy\n",
    "correct_pred = tf.equal(tf.argmax(logits, 1), tf.argmax(y, 1))\n",
    "accuracy = tf.reduce_mean(tf.cast(correct_pred, tf.float32), name='accuracy')\n",
    "\n",
    "tests.test_conv_net(conv_net)"
   ]
  },
  {
   "cell_type": "markdown",
   "metadata": {
    "deletable": true,
    "editable": true
   },
   "source": [
    "## Train the Neural Network\n",
    "### Single Optimization\n",
    "The function `train_neural_network` to do a single optimization.  The optimization uses `optimizer` to optimize in `session` with a `feed_dict` of the following:\n",
    "* `x` for image input\n",
    "* `y` for labels\n",
    "* `keep_prob` for keep probability for dropout\n",
    "\n",
    "This function will be called for each batch, so `tf.global_variables_initializer()` has already been called.\n",
    "\n",
    "Note: Nothing needs to be returned. This function is only optimizing the neural network."
   ]
  },
  {
   "cell_type": "code",
   "execution_count": 15,
   "metadata": {
    "collapsed": false,
    "deletable": true,
    "editable": true
   },
   "outputs": [
    {
     "name": "stdout",
     "output_type": "stream",
     "text": [
      "Tests Passed\n"
     ]
    }
   ],
   "source": [
    "def train_neural_network(session, optimizer, keep_probability, feature_batch, label_batch):\n",
    "    \"\"\"\n",
    "    Optimize the session on a batch of images and labels\n",
    "    : session: Current TensorFlow session\n",
    "    : optimizer: TensorFlow optimizer function\n",
    "    : keep_probability: keep probability\n",
    "    : feature_batch: Batch of Numpy image data\n",
    "    : label_batch: Batch of Numpy label data\n",
    "    \"\"\"\n",
    "    session.run(optimizer, feed_dict={x: feature_batch, y: label_batch, keep_prob: keep_probability})\n",
    "\n",
    "\n",
    "tests.test_train_nn(train_neural_network)"
   ]
  },
  {
   "cell_type": "markdown",
   "metadata": {
    "deletable": true,
    "editable": true
   },
   "source": [
    "### Show Stats\n",
    "The function `print_stats` to print loss and validation accuracy.  Use the global variables `valid_features` and `valid_labels` to calculate validation accuracy.  Use a keep probability of `1.0` to calculate the loss and validation accuracy."
   ]
  },
  {
   "cell_type": "code",
   "execution_count": 16,
   "metadata": {
    "collapsed": false,
    "deletable": true,
    "editable": true
   },
   "outputs": [],
   "source": [
    "def print_stats(session, feature_batch, label_batch, cost, accuracy):\n",
    "    \"\"\"\n",
    "    Print information about loss and validation accuracy\n",
    "    : session: Current TensorFlow session\n",
    "    : feature_batch: Batch of Numpy image data\n",
    "    : label_batch: Batch of Numpy label data\n",
    "    : cost: TensorFlow cost function\n",
    "    : accuracy: TensorFlow accuracy function\n",
    "    \"\"\"\n",
    "    loss = session.run(cost, feed_dict={x: feature_batch, y: label_batch, keep_prob: 1.})\n",
    "    \n",
    "    valid_acc = session.run(accuracy, feed_dict={x: valid_features, y: valid_labels, keep_prob: 1.})\n",
    "\n",
    "    print('Loss: {:>10.4f} Validation Accuracy: {:.6f}'.format(loss,valid_acc))"
   ]
  },
  {
   "cell_type": "markdown",
   "metadata": {
    "deletable": true,
    "editable": true
   },
   "source": [
    "### Hyperparameters\n",
    "Tune the following parameters:\n",
    "* Set `epochs` to the number of iterations until the network stops learning or start overfitting\n",
    "* Set `batch_size` to the highest number that your machine has memory for.  Most people set them to common sizes of memory:\n",
    " * 64\n",
    " * 128\n",
    " * 256\n",
    " * ...\n",
    "* Set `keep_probability` to the probability of keeping a node using dropout"
   ]
  },
  {
   "cell_type": "code",
   "execution_count": 20,
   "metadata": {
    "collapsed": true,
    "deletable": true,
    "editable": true
   },
   "outputs": [],
   "source": [
    "# Tune Parameters\n",
    "epochs = 25\n",
    "batch_size = 256\n",
    "keep_probability = 0.5"
   ]
  },
  {
   "cell_type": "markdown",
   "metadata": {
    "deletable": true,
    "editable": true
   },
   "source": [
    "### Train on a Single CIFAR-10 Batch\n",
    "Instead of training the neural network on all the CIFAR-10 batches of data, let's use a single batch. This should save time while we iterate on the model to get a better accuracy.  Once the final validation accuracy is 50% or greater, run the model on all the data."
   ]
  },
  {
   "cell_type": "code",
   "execution_count": 21,
   "metadata": {
    "collapsed": false,
    "deletable": true,
    "editable": true
   },
   "outputs": [
    {
     "name": "stdout",
     "output_type": "stream",
     "text": [
      "Checking the Training on a Single Batch...\n",
      "Epoch  1, CIFAR-10 Batch 1:  Loss:     2.1982 Validation Accuracy: 0.227800\n",
      "Epoch  2, CIFAR-10 Batch 1:  Loss:     2.1451 Validation Accuracy: 0.297000\n",
      "Epoch  3, CIFAR-10 Batch 1:  Loss:     1.9787 Validation Accuracy: 0.374600\n",
      "Epoch  4, CIFAR-10 Batch 1:  Loss:     1.7235 Validation Accuracy: 0.415800\n",
      "Epoch  5, CIFAR-10 Batch 1:  Loss:     1.5614 Validation Accuracy: 0.430200\n",
      "Epoch  6, CIFAR-10 Batch 1:  Loss:     1.4580 Validation Accuracy: 0.456600\n",
      "Epoch  7, CIFAR-10 Batch 1:  Loss:     1.2816 Validation Accuracy: 0.477800\n",
      "Epoch  8, CIFAR-10 Batch 1:  Loss:     1.1460 Validation Accuracy: 0.492400\n",
      "Epoch  9, CIFAR-10 Batch 1:  Loss:     1.0984 Validation Accuracy: 0.493000\n",
      "Epoch 10, CIFAR-10 Batch 1:  Loss:     0.9037 Validation Accuracy: 0.528400\n",
      "Epoch 11, CIFAR-10 Batch 1:  Loss:     0.8285 Validation Accuracy: 0.512800\n",
      "Epoch 12, CIFAR-10 Batch 1:  Loss:     0.7358 Validation Accuracy: 0.530200\n",
      "Epoch 13, CIFAR-10 Batch 1:  Loss:     0.6729 Validation Accuracy: 0.558000\n",
      "Epoch 14, CIFAR-10 Batch 1:  Loss:     0.5629 Validation Accuracy: 0.563600\n",
      "Epoch 15, CIFAR-10 Batch 1:  Loss:     0.4749 Validation Accuracy: 0.574400\n",
      "Epoch 16, CIFAR-10 Batch 1:  Loss:     0.4424 Validation Accuracy: 0.567800\n",
      "Epoch 17, CIFAR-10 Batch 1:  Loss:     0.3311 Validation Accuracy: 0.573200\n",
      "Epoch 18, CIFAR-10 Batch 1:  Loss:     0.3193 Validation Accuracy: 0.561000\n",
      "Epoch 19, CIFAR-10 Batch 1:  Loss:     0.2811 Validation Accuracy: 0.566200\n",
      "Epoch 20, CIFAR-10 Batch 1:  Loss:     0.2366 Validation Accuracy: 0.577400\n",
      "Epoch 21, CIFAR-10 Batch 1:  Loss:     0.2013 Validation Accuracy: 0.588400\n",
      "Epoch 22, CIFAR-10 Batch 1:  Loss:     0.1764 Validation Accuracy: 0.603000\n",
      "Epoch 23, CIFAR-10 Batch 1:  Loss:     0.1605 Validation Accuracy: 0.589400\n",
      "Epoch 24, CIFAR-10 Batch 1:  Loss:     0.1210 Validation Accuracy: 0.585800\n",
      "Epoch 25, CIFAR-10 Batch 1:  Loss:     0.1113 Validation Accuracy: 0.593400\n"
     ]
    }
   ],
   "source": [
    "print('Checking the Training on a Single Batch...')\n",
    "with tf.Session() as sess:\n",
    "    # Initializing the variables\n",
    "    sess.run(tf.global_variables_initializer())\n",
    "    \n",
    "    # Training cycle\n",
    "    for epoch in range(epochs):\n",
    "        batch_i = 1\n",
    "        for batch_features, batch_labels in helper.load_preprocess_training_batch(batch_i, batch_size):\n",
    "            train_neural_network(sess, optimizer, keep_probability, batch_features, batch_labels)\n",
    "        print('Epoch {:>2}, CIFAR-10 Batch {}:  '.format(epoch + 1, batch_i), end='')\n",
    "        print_stats(sess, batch_features, batch_labels, cost, accuracy)"
   ]
  },
  {
   "cell_type": "markdown",
   "metadata": {
    "deletable": true,
    "editable": true
   },
   "source": [
    "### Fully Train the Model\n",
    "Now that we got a good accuracy with a single CIFAR-10 batch, try it with all five batches."
   ]
  },
  {
   "cell_type": "code",
   "execution_count": 22,
   "metadata": {
    "collapsed": false,
    "deletable": true,
    "editable": true
   },
   "outputs": [
    {
     "name": "stdout",
     "output_type": "stream",
     "text": [
      "Training...\n",
      "Epoch  1, CIFAR-10 Batch 1:  Loss:     2.1959 Validation Accuracy: 0.255000\n",
      "Epoch  1, CIFAR-10 Batch 2:  Loss:     1.8818 Validation Accuracy: 0.332000\n",
      "Epoch  1, CIFAR-10 Batch 3:  Loss:     1.6236 Validation Accuracy: 0.382600\n",
      "Epoch  1, CIFAR-10 Batch 4:  Loss:     1.5960 Validation Accuracy: 0.402400\n",
      "Epoch  1, CIFAR-10 Batch 5:  Loss:     1.5434 Validation Accuracy: 0.438200\n",
      "Epoch  2, CIFAR-10 Batch 1:  Loss:     1.6538 Validation Accuracy: 0.465200\n",
      "Epoch  2, CIFAR-10 Batch 2:  Loss:     1.4478 Validation Accuracy: 0.470400\n",
      "Epoch  2, CIFAR-10 Batch 3:  Loss:     1.1861 Validation Accuracy: 0.458000\n",
      "Epoch  2, CIFAR-10 Batch 4:  Loss:     1.2515 Validation Accuracy: 0.493800\n",
      "Epoch  2, CIFAR-10 Batch 5:  Loss:     1.3236 Validation Accuracy: 0.517400\n",
      "Epoch  3, CIFAR-10 Batch 1:  Loss:     1.3023 Validation Accuracy: 0.536400\n",
      "Epoch  3, CIFAR-10 Batch 2:  Loss:     1.1121 Validation Accuracy: 0.535800\n",
      "Epoch  3, CIFAR-10 Batch 3:  Loss:     0.9743 Validation Accuracy: 0.550400\n",
      "Epoch  3, CIFAR-10 Batch 4:  Loss:     1.1110 Validation Accuracy: 0.551600\n",
      "Epoch  3, CIFAR-10 Batch 5:  Loss:     1.1407 Validation Accuracy: 0.564800\n",
      "Epoch  4, CIFAR-10 Batch 1:  Loss:     0.9893 Validation Accuracy: 0.587800\n",
      "Epoch  4, CIFAR-10 Batch 2:  Loss:     0.8748 Validation Accuracy: 0.590200\n",
      "Epoch  4, CIFAR-10 Batch 3:  Loss:     0.8220 Validation Accuracy: 0.591000\n",
      "Epoch  4, CIFAR-10 Batch 4:  Loss:     0.9594 Validation Accuracy: 0.609000\n",
      "Epoch  4, CIFAR-10 Batch 5:  Loss:     0.9012 Validation Accuracy: 0.592200\n",
      "Epoch  5, CIFAR-10 Batch 1:  Loss:     0.8281 Validation Accuracy: 0.621200\n",
      "Epoch  5, CIFAR-10 Batch 2:  Loss:     0.7359 Validation Accuracy: 0.636000\n",
      "Epoch  5, CIFAR-10 Batch 3:  Loss:     0.7054 Validation Accuracy: 0.636800\n",
      "Epoch  5, CIFAR-10 Batch 4:  Loss:     0.7823 Validation Accuracy: 0.635800\n",
      "Epoch  5, CIFAR-10 Batch 5:  Loss:     0.6772 Validation Accuracy: 0.637400\n",
      "Epoch  6, CIFAR-10 Batch 1:  Loss:     0.7136 Validation Accuracy: 0.642600\n",
      "Epoch  6, CIFAR-10 Batch 2:  Loss:     0.6091 Validation Accuracy: 0.640800\n",
      "Epoch  6, CIFAR-10 Batch 3:  Loss:     0.5518 Validation Accuracy: 0.658000\n",
      "Epoch  6, CIFAR-10 Batch 4:  Loss:     0.6247 Validation Accuracy: 0.665600\n",
      "Epoch  6, CIFAR-10 Batch 5:  Loss:     0.4776 Validation Accuracy: 0.652200\n",
      "Epoch  7, CIFAR-10 Batch 1:  Loss:     0.5761 Validation Accuracy: 0.671800\n",
      "Epoch  7, CIFAR-10 Batch 2:  Loss:     0.4644 Validation Accuracy: 0.677000\n",
      "Epoch  7, CIFAR-10 Batch 3:  Loss:     0.5001 Validation Accuracy: 0.669600\n",
      "Epoch  7, CIFAR-10 Batch 4:  Loss:     0.4499 Validation Accuracy: 0.680600\n",
      "Epoch  7, CIFAR-10 Batch 5:  Loss:     0.3484 Validation Accuracy: 0.683400\n",
      "Epoch  8, CIFAR-10 Batch 1:  Loss:     0.4860 Validation Accuracy: 0.684600\n",
      "Epoch  8, CIFAR-10 Batch 2:  Loss:     0.3590 Validation Accuracy: 0.697400\n",
      "Epoch  8, CIFAR-10 Batch 3:  Loss:     0.3414 Validation Accuracy: 0.690800\n",
      "Epoch  8, CIFAR-10 Batch 4:  Loss:     0.3595 Validation Accuracy: 0.710600\n",
      "Epoch  8, CIFAR-10 Batch 5:  Loss:     0.3061 Validation Accuracy: 0.689800\n",
      "Epoch  9, CIFAR-10 Batch 1:  Loss:     0.3861 Validation Accuracy: 0.698800\n",
      "Epoch  9, CIFAR-10 Batch 2:  Loss:     0.2935 Validation Accuracy: 0.700200\n",
      "Epoch  9, CIFAR-10 Batch 3:  Loss:     0.2865 Validation Accuracy: 0.689000\n",
      "Epoch  9, CIFAR-10 Batch 4:  Loss:     0.2847 Validation Accuracy: 0.709000\n",
      "Epoch  9, CIFAR-10 Batch 5:  Loss:     0.2397 Validation Accuracy: 0.695000\n",
      "Epoch 10, CIFAR-10 Batch 1:  Loss:     0.3209 Validation Accuracy: 0.708400\n",
      "Epoch 10, CIFAR-10 Batch 2:  Loss:     0.2190 Validation Accuracy: 0.715400\n",
      "Epoch 10, CIFAR-10 Batch 3:  Loss:     0.2393 Validation Accuracy: 0.699200\n",
      "Epoch 10, CIFAR-10 Batch 4:  Loss:     0.2264 Validation Accuracy: 0.722000\n",
      "Epoch 10, CIFAR-10 Batch 5:  Loss:     0.2066 Validation Accuracy: 0.712200\n",
      "Epoch 11, CIFAR-10 Batch 1:  Loss:     0.2567 Validation Accuracy: 0.715600\n",
      "Epoch 11, CIFAR-10 Batch 2:  Loss:     0.1882 Validation Accuracy: 0.713000\n",
      "Epoch 11, CIFAR-10 Batch 3:  Loss:     0.1997 Validation Accuracy: 0.705000\n",
      "Epoch 11, CIFAR-10 Batch 4:  Loss:     0.1855 Validation Accuracy: 0.721000\n",
      "Epoch 11, CIFAR-10 Batch 5:  Loss:     0.1406 Validation Accuracy: 0.729600\n",
      "Epoch 12, CIFAR-10 Batch 1:  Loss:     0.2009 Validation Accuracy: 0.715200\n",
      "Epoch 12, CIFAR-10 Batch 2:  Loss:     0.1415 Validation Accuracy: 0.726400\n",
      "Epoch 12, CIFAR-10 Batch 3:  Loss:     0.1473 Validation Accuracy: 0.722800\n",
      "Epoch 12, CIFAR-10 Batch 4:  Loss:     0.1608 Validation Accuracy: 0.732000\n",
      "Epoch 12, CIFAR-10 Batch 5:  Loss:     0.1167 Validation Accuracy: 0.728200\n",
      "Epoch 13, CIFAR-10 Batch 1:  Loss:     0.1820 Validation Accuracy: 0.704400\n",
      "Epoch 13, CIFAR-10 Batch 2:  Loss:     0.1143 Validation Accuracy: 0.737000\n",
      "Epoch 13, CIFAR-10 Batch 3:  Loss:     0.1220 Validation Accuracy: 0.722400\n",
      "Epoch 13, CIFAR-10 Batch 4:  Loss:     0.1510 Validation Accuracy: 0.724400\n",
      "Epoch 13, CIFAR-10 Batch 5:  Loss:     0.1064 Validation Accuracy: 0.718200\n",
      "Epoch 14, CIFAR-10 Batch 1:  Loss:     0.1324 Validation Accuracy: 0.713000\n",
      "Epoch 14, CIFAR-10 Batch 2:  Loss:     0.0986 Validation Accuracy: 0.737000\n",
      "Epoch 14, CIFAR-10 Batch 3:  Loss:     0.1087 Validation Accuracy: 0.718200\n",
      "Epoch 14, CIFAR-10 Batch 4:  Loss:     0.0936 Validation Accuracy: 0.734200\n",
      "Epoch 14, CIFAR-10 Batch 5:  Loss:     0.1011 Validation Accuracy: 0.732400\n",
      "Epoch 15, CIFAR-10 Batch 1:  Loss:     0.1020 Validation Accuracy: 0.734400\n",
      "Epoch 15, CIFAR-10 Batch 2:  Loss:     0.0876 Validation Accuracy: 0.735800\n",
      "Epoch 15, CIFAR-10 Batch 3:  Loss:     0.1101 Validation Accuracy: 0.714000\n",
      "Epoch 15, CIFAR-10 Batch 4:  Loss:     0.0872 Validation Accuracy: 0.741000\n",
      "Epoch 15, CIFAR-10 Batch 5:  Loss:     0.0601 Validation Accuracy: 0.740200\n",
      "Epoch 16, CIFAR-10 Batch 1:  Loss:     0.0818 Validation Accuracy: 0.732000\n",
      "Epoch 16, CIFAR-10 Batch 2:  Loss:     0.0655 Validation Accuracy: 0.730200\n",
      "Epoch 16, CIFAR-10 Batch 3:  Loss:     0.0897 Validation Accuracy: 0.730200\n",
      "Epoch 16, CIFAR-10 Batch 4:  Loss:     0.0562 Validation Accuracy: 0.745600\n",
      "Epoch 16, CIFAR-10 Batch 5:  Loss:     0.0436 Validation Accuracy: 0.742800\n",
      "Epoch 17, CIFAR-10 Batch 1:  Loss:     0.0604 Validation Accuracy: 0.743200\n",
      "Epoch 17, CIFAR-10 Batch 2:  Loss:     0.0496 Validation Accuracy: 0.734800\n",
      "Epoch 17, CIFAR-10 Batch 3:  Loss:     0.0513 Validation Accuracy: 0.719000\n",
      "Epoch 17, CIFAR-10 Batch 4:  Loss:     0.0480 Validation Accuracy: 0.740800\n",
      "Epoch 17, CIFAR-10 Batch 5:  Loss:     0.0364 Validation Accuracy: 0.744000\n",
      "Epoch 18, CIFAR-10 Batch 1:  Loss:     0.0502 Validation Accuracy: 0.747600\n",
      "Epoch 18, CIFAR-10 Batch 2:  Loss:     0.0416 Validation Accuracy: 0.733200\n",
      "Epoch 18, CIFAR-10 Batch 3:  Loss:     0.0516 Validation Accuracy: 0.726200\n",
      "Epoch 18, CIFAR-10 Batch 4:  Loss:     0.0467 Validation Accuracy: 0.748800\n",
      "Epoch 18, CIFAR-10 Batch 5:  Loss:     0.0380 Validation Accuracy: 0.731600\n",
      "Epoch 19, CIFAR-10 Batch 1:  Loss:     0.0467 Validation Accuracy: 0.740400\n",
      "Epoch 19, CIFAR-10 Batch 2:  Loss:     0.0369 Validation Accuracy: 0.725800\n",
      "Epoch 19, CIFAR-10 Batch 3:  Loss:     0.0441 Validation Accuracy: 0.726600\n",
      "Epoch 19, CIFAR-10 Batch 4:  Loss:     0.0436 Validation Accuracy: 0.742800\n",
      "Epoch 19, CIFAR-10 Batch 5:  Loss:     0.0325 Validation Accuracy: 0.725400\n",
      "Epoch 20, CIFAR-10 Batch 1:  Loss:     0.0478 Validation Accuracy: 0.735200\n",
      "Epoch 20, CIFAR-10 Batch 2:  Loss:     0.0448 Validation Accuracy: 0.741200\n",
      "Epoch 20, CIFAR-10 Batch 3:  Loss:     0.0423 Validation Accuracy: 0.732400\n",
      "Epoch 20, CIFAR-10 Batch 4:  Loss:     0.0352 Validation Accuracy: 0.745000\n",
      "Epoch 20, CIFAR-10 Batch 5:  Loss:     0.0270 Validation Accuracy: 0.737800\n",
      "Epoch 21, CIFAR-10 Batch 1:  Loss:     0.0449 Validation Accuracy: 0.726600\n",
      "Epoch 21, CIFAR-10 Batch 2:  Loss:     0.0367 Validation Accuracy: 0.735200\n",
      "Epoch 21, CIFAR-10 Batch 3:  Loss:     0.0182 Validation Accuracy: 0.738800\n",
      "Epoch 21, CIFAR-10 Batch 4:  Loss:     0.0399 Validation Accuracy: 0.732200\n",
      "Epoch 21, CIFAR-10 Batch 5:  Loss:     0.0258 Validation Accuracy: 0.726400\n",
      "Epoch 22, CIFAR-10 Batch 1:  Loss:     0.0306 Validation Accuracy: 0.725800\n",
      "Epoch 22, CIFAR-10 Batch 2:  Loss:     0.0242 Validation Accuracy: 0.739600\n",
      "Epoch 22, CIFAR-10 Batch 3:  Loss:     0.0160 Validation Accuracy: 0.733000\n",
      "Epoch 22, CIFAR-10 Batch 4:  Loss:     0.0324 Validation Accuracy: 0.729600\n",
      "Epoch 22, CIFAR-10 Batch 5:  Loss:     0.0127 Validation Accuracy: 0.726200\n",
      "Epoch 23, CIFAR-10 Batch 1:  Loss:     0.0396 Validation Accuracy: 0.726000\n",
      "Epoch 23, CIFAR-10 Batch 2:  Loss:     0.0302 Validation Accuracy: 0.735400\n",
      "Epoch 23, CIFAR-10 Batch 3:  Loss:     0.0204 Validation Accuracy: 0.733000\n",
      "Epoch 23, CIFAR-10 Batch 4:  Loss:     0.0190 Validation Accuracy: 0.727800\n",
      "Epoch 23, CIFAR-10 Batch 5:  Loss:     0.0106 Validation Accuracy: 0.740200\n",
      "Epoch 24, CIFAR-10 Batch 1:  Loss:     0.0315 Validation Accuracy: 0.730400\n",
      "Epoch 24, CIFAR-10 Batch 2:  Loss:     0.0160 Validation Accuracy: 0.742600\n",
      "Epoch 24, CIFAR-10 Batch 3:  Loss:     0.0086 Validation Accuracy: 0.744600\n",
      "Epoch 24, CIFAR-10 Batch 4:  Loss:     0.0249 Validation Accuracy: 0.725200\n",
      "Epoch 24, CIFAR-10 Batch 5:  Loss:     0.0127 Validation Accuracy: 0.740600\n",
      "Epoch 25, CIFAR-10 Batch 1:  Loss:     0.0261 Validation Accuracy: 0.719000\n",
      "Epoch 25, CIFAR-10 Batch 2:  Loss:     0.0110 Validation Accuracy: 0.743600\n",
      "Epoch 25, CIFAR-10 Batch 3:  Loss:     0.0076 Validation Accuracy: 0.742400\n",
      "Epoch 25, CIFAR-10 Batch 4:  Loss:     0.0170 Validation Accuracy: 0.718000\n",
      "Epoch 25, CIFAR-10 Batch 5:  Loss:     0.0092 Validation Accuracy: 0.732200\n"
     ]
    }
   ],
   "source": [
    "save_model_path = './image_classification'\n",
    "\n",
    "print('Training...')\n",
    "with tf.Session() as sess:\n",
    "    # Initializing the variables\n",
    "    sess.run(tf.global_variables_initializer())\n",
    "    \n",
    "    # Training cycle\n",
    "    for epoch in range(epochs):\n",
    "        # Loop over all batches\n",
    "        n_batches = 5\n",
    "        for batch_i in range(1, n_batches + 1):\n",
    "            for batch_features, batch_labels in helper.load_preprocess_training_batch(batch_i, batch_size):\n",
    "                train_neural_network(sess, optimizer, keep_probability, batch_features, batch_labels)\n",
    "            print('Epoch {:>2}, CIFAR-10 Batch {}:  '.format(epoch + 1, batch_i), end='')\n",
    "            print_stats(sess, batch_features, batch_labels, cost, accuracy)\n",
    "            \n",
    "    # Save Model\n",
    "    saver = tf.train.Saver()\n",
    "    save_path = saver.save(sess, save_model_path)"
   ]
  },
  {
   "cell_type": "markdown",
   "metadata": {
    "deletable": true,
    "editable": true
   },
   "source": [
    "# Checkpoint\n",
    "The model has been saved to disk.\n",
    "## Test Model\n",
    "Test the model against the test dataset.  This will be our final accuracy."
   ]
  },
  {
   "cell_type": "code",
   "execution_count": 23,
   "metadata": {
    "collapsed": false,
    "deletable": true,
    "editable": true
   },
   "outputs": [
    {
     "name": "stdout",
     "output_type": "stream",
     "text": [
      "Testing Accuracy: 0.72216796875\n",
      "\n"
     ]
    },
    {
     "data": {
      "image/png": "[encoded data removed]",
      "text/plain": [
       "<matplotlib.figure.Figure at 0x7f5e2403b320>"
      ]
     },
     "metadata": {
      "image/png": {
       "height": 319,
       "width": 349
      }
     },
     "output_type": "display_data"
    }
   ],
   "source": [
    "%matplotlib inline\n",
    "%config InlineBackend.figure_format = 'retina'\n",
    "\n",
    "import tensorflow as tf\n",
    "import pickle\n",
    "import helper\n",
    "import random\n",
    "\n",
    "# Set batch size if not already set\n",
    "try:\n",
    "    if batch_size:\n",
    "        pass\n",
    "except NameError:\n",
    "    batch_size = 64\n",
    "\n",
    "save_model_path = './image_classification'\n",
    "n_samples = 4\n",
    "top_n_predictions = 3\n",
    "\n",
    "def test_model():\n",
    "    \"\"\"\n",
    "    Test the saved model against the test dataset\n",
    "    \"\"\"\n",
    "\n",
    "    test_features, test_labels = pickle.load(open('preprocess_training.p', mode='rb'))\n",
    "    loaded_graph = tf.Graph()\n",
    "\n",
    "    with tf.Session(graph=loaded_graph) as sess:\n",
    "        # Load model\n",
    "        loader = tf.train.import_meta_graph(save_model_path + '.meta')\n",
    "        loader.restore(sess, save_model_path)\n",
    "\n",
    "        # Get Tensors from loaded model\n",
    "        loaded_x = loaded_graph.get_tensor_by_name('x:0')\n",
    "        loaded_y = loaded_graph.get_tensor_by_name('y:0')\n",
    "        loaded_keep_prob = loaded_graph.get_tensor_by_name('keep_prob:0')\n",
    "        loaded_logits = loaded_graph.get_tensor_by_name('logits:0')\n",
    "        loaded_acc = loaded_graph.get_tensor_by_name('accuracy:0')\n",
    "        \n",
    "        # Get accuracy in batches for memory limitations\n",
    "        test_batch_acc_total = 0\n",
    "        test_batch_count = 0\n",
    "        \n",
    "        for train_feature_batch, train_label_batch in helper.batch_features_labels(test_features, test_labels, batch_size):\n",
    "            test_batch_acc_total += sess.run(\n",
    "                loaded_acc,\n",
    "                feed_dict={loaded_x: train_feature_batch, loaded_y: train_label_batch, loaded_keep_prob: 1.0})\n",
    "            test_batch_count += 1\n",
    "\n",
    "        print('Testing Accuracy: {}\\n'.format(test_batch_acc_total/test_batch_count))\n",
    "\n",
    "        # Print Random Samples\n",
    "        random_test_features, random_test_labels = tuple(zip(*random.sample(list(zip(test_features, test_labels)), n_samples)))\n",
    "        random_test_predictions = sess.run(\n",
    "            tf.nn.top_k(tf.nn.softmax(loaded_logits), top_n_predictions),\n",
    "            feed_dict={loaded_x: random_test_features, loaded_y: random_test_labels, loaded_keep_prob: 1.0})\n",
    "        helper.display_image_predictions(random_test_features, random_test_labels, random_test_predictions)\n",
    "\n",
    "\n",
    "test_model()"
   ]
  },
  {
   "cell_type": "markdown",
   "metadata": {
    "deletable": true,
    "editable": true
   },
   "source": [
    "## Why 50-70% Accuracy?\n",
    "You might be wondering why we can't get an accuracy any higher. First things first, 50% isn't bad for a simple CNN.  Pure guessing would get you 10% accuracy. However, you might notice people are getting scores [well above 70%](http://rodrigob.github.io/are_we_there_yet/build/classification_datasets_results.html#43494641522d3130).  That's because we haven't tweaked a lot of the knobs in the equation. We will do it later. This was mostly to get the feet wet with the CNN."
   ]
  },
  {
   "cell_type": "code",
   "execution_count": null,
   "metadata": {
    "collapsed": true
   },
   "outputs": [],
   "source": []
  }
 ],
 "metadata": {
  "anaconda-cloud": {},
  "kernelspec": {
   "display_name": "Python [default]",
   "language": "python",
   "name": "python3"
  },
  "language_info": {
   "codemirror_mode": {
    "name": "ipython",
    "version": 3
   },
   "file_extension": ".py",
   "mimetype": "text/x-python",
   "name": "python",
   "nbconvert_exporter": "python",
   "pygments_lexer": "ipython3",
   "version": "3.5.2"
  }
 },
 "nbformat": 4,
 "nbformat_minor": 0
}
